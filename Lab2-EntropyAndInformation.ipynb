{
 "cells": [
  {
   "cell_type": "markdown",
   "metadata": {},
   "source": [
    "# Lab 2: Entropy and Information Theory"
   ]
  },
  {
   "cell_type": "markdown",
   "metadata": {},
   "source": [
    "Welcome to your second lab! In this lab we will be covering concepts related to Entropy and Information theory! This lab will help solidify your understanding of entropy, surprisal, and other information theory related concepts. It is highly recommended that you finish Lab 1, as information theory and probability theory are highly related. Be sure to have the `numpy` package installed. It will assist in some of the computations in this, and future labs. "
   ]
  },
  {
   "cell_type": "markdown",
   "metadata": {},
   "source": [
    "### Grading Breakdown:\n",
    "- Problem 1 - 12 Points\n",
    "- Problem 2 - 12 Points\n",
    "- Problem 3 - 12 Points\n",
    "- Problem 4 - 4 Points\n",
    "\n",
    "Total: 40 Points"
   ]
  },
  {
   "cell_type": "code",
   "execution_count": 4,
   "metadata": {},
   "outputs": [],
   "source": [
    "# Packages used in this lab\n",
    "import numpy as np\n",
    "import random"
   ]
  },
  {
   "cell_type": "markdown",
   "metadata": {},
   "source": [
    "### Problem 1: Surpise!"
   ]
  },
  {
   "cell_type": "markdown",
   "metadata": {},
   "source": [
    "Surprisal is a term that tells you how surprised you should be when observing a specific value of a variable, and as such is inversely related to probability.\n",
    "\n",
    "In laymans terms, if a specific outcome in a sample space has a particularly low probability outcome, the surprise should be high! For example, the probability of winning the lottery is very low, so if a person randomly won the lottery, they would be very surprised.\n",
    "\n",
    "Surprisal is a way to quantify how \"surprised\" a person should be when observing an event with a very low probability. We use $log_2$ to calculate surprisal because bits are a common way to measure information.\n",
    "\n",
    "It is given by the following equation:\n",
    "\n",
    "$S(X=x) = -log_2(p(x))$\n",
    "\n",
    "Where p(x) is the probability that the random variable is equal to x.\n",
    "\n",
    "Your task: Complete the function for calculating surprisal."
   ]
  },
  {
   "cell_type": "code",
   "execution_count": null,
   "metadata": {},
   "outputs": [],
   "source": [
    "def calculate_surprisal(p_x):\n",
    "    # TODO: Calculate the surprisal of a given event happening\n",
    "    surprisal = \n",
    "    return surprisal"
   ]
  },
  {
   "cell_type": "code",
   "execution_count": null,
   "metadata": {},
   "outputs": [],
   "source": [
    "# Testing Code: Feel free to add as many lines to this code to test your functions."
   ]
  },
  {
   "cell_type": "code",
   "execution_count": null,
   "metadata": {},
   "outputs": [],
   "source": [
    "# Grading Code: Do not edit this cell.\n",
    "assert calculate_surprisal(.125) == 3.0\n",
    "assert calculate_surprisal(.25) == 2.0\n",
    "assert calculate_surprisal(.5) == 1.0\n",
    "print(\"All Tests Passed!\")"
   ]
  },
  {
   "cell_type": "markdown",
   "metadata": {},
   "source": [
    "Pedro's friend Frank the Lizard is trying to catch some crickets for dinner. The probability of catching a cricket during the day is 10%. How surprised would Frank  be that he caught one? How surprised would Frank be if he didn't catch a cricket?"
   ]
  },
  {
   "cell_type": "code",
   "execution_count": null,
   "metadata": {},
   "outputs": [],
   "source": [
    "cricket_surprise = \n",
    "no_cricket_surprise = "
   ]
  },
  {
   "cell_type": "code",
   "execution_count": null,
   "metadata": {},
   "outputs": [],
   "source": [
    "assert round(cricket_surprise,2) == 3.32\n",
    "assert round(no_cricket_surprise,2) == 0.15\n",
    "print(\"All Tests Passed!\")"
   ]
  },
  {
   "cell_type": "markdown",
   "metadata": {},
   "source": [
    "### Problem 2: Entropy"
   ]
  },
  {
   "cell_type": "markdown",
   "metadata": {},
   "source": [
    "Before we get into the concept of entropy, we need to cover what an expected value is. An expected value is the following formula:\n",
    "\n",
    "$E[x] = \\sum_{i=0}^{n} p(x_i)x_i$\n",
    "\n",
    "This equation states that the expected value of a random variable is the sum of the outcomes multiplied by their probabilities. You'll see why this is important in the next part of the problem.\n",
    "\n",
    "Your task: Fill out the equation for expected value. \n",
    "\n",
    "Note: You can get an extra credit point if you don't use any for loops, and only use numpy functions. This is called vectorization and can really speed up your python code."
   ]
  },
  {
   "cell_type": "code",
   "execution_count": null,
   "metadata": {},
   "outputs": [],
   "source": [
    "def calculate_expected_value(x, p_x):\n",
    "    # TODO: Calculate the expected value of a random variable.\n",
    "    expected_value = \n",
    "    return expected_value"
   ]
  },
  {
   "cell_type": "code",
   "execution_count": null,
   "metadata": {},
   "outputs": [],
   "source": [
    "# Testing Code: Feel free to add as many lines to this code to test your functions."
   ]
  },
  {
   "cell_type": "code",
   "execution_count": null,
   "metadata": {},
   "outputs": [],
   "source": [
    "# Grading Code, do not edit this cell.\n",
    "x = np.array([10,20,25,30])\n",
    "p_x = np.array([0.1,0.2,0.3,0.4])\n",
    "\n",
    "assert calculate_expected_value(x,p_x) == 24.5\n",
    "print(\"All tests passed!\")"
   ]
  },
  {
   "cell_type": "markdown",
   "metadata": {},
   "source": [
    "Now that you know what an expected value is, we can introduce entropy. It is the expected surprise of a given system. We can take the equation for surprise and substitute it in for $x_i$ in the expected value equation, giving us the following formula:\n",
    "\n",
    "$H(X) = -\\sum_{i=0}^n p(x_i) \\cdot log_2p(x_i)$\n",
    "\n",
    "Your task: Fill out the equation to calculate the entropy.\n",
    "Note: If you can do this without for loops, you can get an extra credit point!"
   ]
  },
  {
   "cell_type": "code",
   "execution_count": null,
   "metadata": {},
   "outputs": [],
   "source": [
    "def calculate_entropy(p_x):\n",
    "    # TODO: Calculate the entropy of a random variable.\n",
    "    entropy = \n",
    "    return entropy"
   ]
  },
  {
   "cell_type": "code",
   "execution_count": null,
   "metadata": {},
   "outputs": [],
   "source": [
    "# Testing Code: Feel free to add as many lines to this code to test your functions."
   ]
  },
  {
   "cell_type": "code",
   "execution_count": null,
   "metadata": {},
   "outputs": [],
   "source": [
    "# Grading Code, do not edit this cell.\n",
    "probabilities = np.array([0.05 for i in range(20)])\n",
    "assert round(calculate_entropy(probabilities),2) == 4.32\n",
    "\n",
    "probabilities = [0.5, 0.25, 0.125, 0.0625,0.0625]\n",
    "assert round(calculate_entropy(probabilities),2) == 1.88\n",
    "print(\"All tests passed!\")"
   ]
  },
  {
   "cell_type": "markdown",
   "metadata": {},
   "source": [
    "Frank large variety of insects that he likes to catch. But he wants to know how surprised he would be on average for catching a specific set of insects. The these are the following probabilities of catching each insect type: a cricket is 50%; a grasshopper is 20%; a rolypolly is 25%, and a spider is 5%.\n",
    "\n",
    "Your task: calculate the expected surprise for catching the insects using your entropy equation "
   ]
  },
  {
   "cell_type": "code",
   "execution_count": null,
   "metadata": {},
   "outputs": [],
   "source": [
    "insect_entropy = "
   ]
  },
  {
   "cell_type": "code",
   "execution_count": null,
   "metadata": {},
   "outputs": [],
   "source": [
    "# Grading Code, do not edit this cell.\n",
    "assert round(insect_entropy, 2) == 1.68\n",
    "print(\"All tests passed!\")"
   ]
  },
  {
   "cell_type": "markdown",
   "metadata": {},
   "source": [
    "Questions to Answer:\n",
    "- What would happen to the entropy if the random variable is uniform?\n",
    "- What would happen to the entropy if the random variable is skewed?"
   ]
  },
  {
   "cell_type": "markdown",
   "metadata": {},
   "source": [
    "*Enter Answer Here* "
   ]
  },
  {
   "cell_type": "markdown",
   "metadata": {},
   "source": [
    "### Problem 3: We all live in a Yellow Submarine"
   ]
  },
  {
   "cell_type": "markdown",
   "metadata": {},
   "source": [
    "Pedro the Racoon is waging war against his friend Frank! Someone stole his bag of marbles and he thinks it's Frank. He's decided to do all of his planning and attack from a submarine. Please help Frank find Pedro in the Gulf of Mexico before Pedro does any more damage to the coastal cities!\n",
    "\n",
    "Submarine is a classic game used to illustrate information theory. We recommend watching this [video](https://www.youtube.com/watch?v=bkLHszLlH34) before starting this problem.\n",
    "\n",
    "Your task: Fillout the following class functions which will allow the user to play the submarine game.\n",
    "\n",
    "- information_correct(remaining_guesses: int) -> float: Calculate the information gained from a correct guess.\n",
    "- information_incorrect(remaining_guesses: int) -> float:\n",
    "Calculate the information gained from an incorrect guess.\n",
    "- play() -> None: Fill out the play loop with the following requirements\n",
    "    - Prompt user to input an x and y location.\n",
    "    - If they found the submarine, confirm they found the submarine\n",
    "    - If they did not find the submarine, prompt them to guess again.\n",
    "    - After every guess:\n",
    "        - Log their guess.\n",
    "        - Display the board every time they enter a new guess.\n",
    "        - Display how much information they gained by the guess\n",
    "        - Display the total information they've gathered about the submarine."
   ]
  },
  {
   "cell_type": "code",
   "execution_count": 1,
   "metadata": {},
   "outputs": [],
   "source": [
    "class SubmarineGame():\n",
    "    def __init__(self, grid_size):\n",
    "        # Randomly place frank's location\n",
    "        self.grid_size = grid_size\n",
    "        self.sub_coords = (random.randint(0,grid_size-1), random.randint(0,grid_size-1))\n",
    "        self.found = False\n",
    "        self.display_guesses = np.zero((grid_size, grid_size))\n",
    "    \n",
    "    def information_correct(self, remaining_guesses):\n",
    "        # TODO: Fill out the method to calculate the information when the guess is correct.\n",
    "        pass\n",
    "\n",
    "    def information_incorrect(self, remaining_guesses):\n",
    "        # TODO: Fill out the method to calculate the information when the guess is incorrect.\n",
    "        pass\n",
    "\n",
    "    def play(self):\n",
    "        # TODO: Fillout the play loop with requirements specified above.\n",
    "        pass\n",
    "\n",
    "    def print_board(self):\n",
    "        m, n = self.display_guesses.shape\n",
    "        columns = []\n",
    "        columns = [str(i+1) for i in range(m)]\n",
    "\n",
    "        print(f\"  {' '.join(columns)}\")\n",
    "        \n",
    "        for i in range(m):\n",
    "            row = [str(int(self.display_guesses[i,j])) for j in range(n)]\n",
    "            print(f\"{i+1} {' '.join(row)}\")\n"
   ]
  },
  {
   "cell_type": "code",
   "execution_count": null,
   "metadata": {},
   "outputs": [],
   "source": [
    "# Play the game\n",
    "game = SubmarineGame(6)"
   ]
  },
  {
   "cell_type": "markdown",
   "metadata": {},
   "source": [
    "Questions to Answer:\n",
    "- How much information is gained by each incorrect guess?\n",
    "- How is that different from the amount of information gained from the correct guess?"
   ]
  },
  {
   "cell_type": "markdown",
   "metadata": {},
   "source": [
    "*Enter Response Here*"
   ]
  },
  {
   "cell_type": "markdown",
   "metadata": {},
   "source": [
    "### Problem 4: Write Up"
   ]
  },
  {
   "cell_type": "markdown",
   "metadata": {},
   "source": [
    "Your task: Answer the following questions\n",
    "1. What were some things you learned from this lab?\n",
    "2. What did you like about this lab?\n",
    "3. What would you improve?"
   ]
  },
  {
   "cell_type": "markdown",
   "metadata": {},
   "source": [
    "*Enter Your Answer Here*"
   ]
  }
 ],
 "metadata": {
  "kernelspec": {
   "display_name": "base",
   "language": "python",
   "name": "python3"
  },
  "language_info": {
   "codemirror_mode": {
    "name": "ipython",
    "version": 3
   },
   "file_extension": ".py",
   "mimetype": "text/x-python",
   "name": "python",
   "nbconvert_exporter": "python",
   "pygments_lexer": "ipython3",
   "version": "3.9.18"
  }
 },
 "nbformat": 4,
 "nbformat_minor": 2
}
