{
 "cells": [
  {
   "cell_type": "markdown",
   "metadata": {},
   "source": [
    "# Lab 3: Encoders and Decoders"
   ]
  },
  {
   "cell_type": "markdown",
   "metadata": {},
   "source": [
    "Over the past few weeks, we've been discussing encoders and decoders. This is your chance to computationally implement both an encoder and a decoder. This will be a little bit more computationally challenging, but we know you can do it! We recommend reading up on recursion before doing this lab, as the huffman tree is implemented using recursion. We'll try to make it as easy as possible, while also providing a good learning experience for you."
   ]
  },
  {
   "cell_type": "markdown",
   "metadata": {},
   "source": [
    "### Grading Breakdown:\n",
    "- Problem 1 - 15 Points\n",
    "- Problem 2 - 15 Points\n",
    "- Problem 3 - 6 Points\n",
    "- Problem 4 - 4 Points\n",
    "\n",
    "Total: 40 Points"
   ]
  },
  {
   "cell_type": "markdown",
   "metadata": {},
   "source": [
    "### Problem 1: Building Your Encoder"
   ]
  },
  {
   "cell_type": "markdown",
   "metadata": {},
   "source": [
    "Pedro the racoon is trying to plan Frank the Lizard's birthday party with his friend Gerald the frog. Because of the secret nature of this task, Frank cannot know the contents of the messages. Frank is a highly skilled hacker who unfortunately hasn't taken PHSCS 383, so he doesn't know what an encoding is. You need to build an huffman encoder to assist Pedro in encoding his messages before he sends them to Gerald.\n",
    "\n",
    "Your task: Build a huffman encoder that encodes based on a seed string. Fill out the following functions:\n",
    "- __train_encoder() -> HuffmanTree: Trains the huffman encoder, and breaks down the probabilities.\n",
    "- encode_string(string) -> str: Takes a string and returns the encoded string.\n",
    "\n",
    "Important Notes to make your huffman tree work with the test cases:\n",
    "- Order your nodes first by probability, then by alphabetical order.\n",
    "- Have the left nodes be associated with 0, and the right nodes be associated with 1."
   ]
  },
  {
   "cell_type": "code",
   "execution_count": null,
   "metadata": {},
   "outputs": [],
   "source": [
    "class TreeNode():\n",
    "    def __init__(self, identifying_string, probability, left_node, right_node):\n",
    "        # This class defines the container that your nodes should go in when creating the encoder and decoder.\n",
    "\n",
    "        if left_node != None and right_node == None or left_node == None and right_node != None:\n",
    "            raise(\"Node should either have two children, or none at all.\")\n",
    "\n",
    "        self.identifier = identifying_string\n",
    "        self.probability = probability\n",
    "        self.left_node = left_node\n",
    "        self.right_node = right_node\n",
    "\n",
    "    def __str__(self):\n",
    "        # Returns a string representation that's helpful for debugging.\n",
    "        return f\"<TreeNode(identifier={self.identifier}, probability={self.probability})>\"\n",
    "\n",
    "    def __repr__(self):\n",
    "        # A representation that's also helpful for debugging.\n",
    "        return f\"<TreeNode(identifier={self.identifier}, probability={self.probability})>\"\n"
   ]
  },
  {
   "cell_type": "code",
   "execution_count": null,
   "metadata": {},
   "outputs": [],
   "source": [
    "class HuffmanContainer():\n",
    "    def __init__(self, root_node: TreeNode, encoding_map: dict):\n",
    "        # This class should be used to contain your huffman tree and your encoding map.\n",
    "        self.root = root_node\n",
    "        self.encoding_map = encoding_map"
   ]
  },
  {
   "cell_type": "code",
   "execution_count": null,
   "metadata": {},
   "outputs": [],
   "source": [
    "class Encoder():\n",
    "    def __init__(self, seed_corpus: str):\n",
    "        # You may add as many methods as you see fit to assist you in building your encoder.\n",
    "        self.seed_corpus = seed_corpus\n",
    "        self.huffman_tree: HuffmanTree = self.__train_encoder(seed_corpus)\n",
    "\n",
    "    def __train_encoder(self, corpus) -> HuffmanTree:\n",
    "        # TODO: Build Huffman Train Encoder\n",
    "        pass\n",
    "\n",
    "    def encode_string(self, string):\n",
    "        # TODO: Build the method to encode the string.\n",
    "        pass\n",
    "\n",
    "    def get_tree(self):\n",
    "        # Returns the tree, used by the decoder.\n",
    "        return self.huffman_tree\n"
   ]
  },
  {
   "cell_type": "code",
   "execution_count": null,
   "metadata": {},
   "outputs": [],
   "source": [
    "# Testing Code: Feel free to add as many lines to this code to test your functions above."
   ]
  },
  {
   "cell_type": "code",
   "execution_count": null,
   "metadata": {},
   "outputs": [],
   "source": [
    "# Grading Code: Do not edit this cell.\n",
    "corpus_string = \"abbcaaaaccddabc\"\n",
    "encoder = Encoder(corpus_string)\n",
    "\n",
    "assert encoder.encode_string(\"bad\") == \"1110110\"\n",
    "assert encoder.encode_string(\"add\") == \"0110110\"\n",
    "assert encoder.encode_string(\"cab\") == \"100111\"\n",
    "print(\"All Tests Passed!\")"
   ]
  },
  {
   "cell_type": "markdown",
   "metadata": {},
   "source": [
    "Questions to Answer\n",
    "- What did you learn from building the encoder?\n",
    "- Did you use recursion? Why or Why not?"
   ]
  },
  {
   "cell_type": "markdown",
   "metadata": {},
   "source": [
    "*Answer the above question*"
   ]
  },
  {
   "cell_type": "markdown",
   "metadata": {},
   "source": [
    "### Problem 2: Building Your Decoder\n",
    "Pedro has successfully encoded his message that he's sending to Gerald. Gerald however has no way to understand what message is being sent. Gerald was sent a packet of decoding information as well as the message. He needs your help to build a decoder to be able to understand the message that Pedro is sending.\n",
    "\n",
    "Your task: Build a decoder that receives a huffman tree (packet) as an input to it's constructor, and is able to decode the message sent by Gerald.\n",
    "- decode(encoded_string: str) -> str: Decodes an encoded string."
   ]
  },
  {
   "cell_type": "code",
   "execution_count": 2,
   "metadata": {},
   "outputs": [],
   "source": [
    "class Decoder():\n",
    "    def __init__(self, huffman_tree):\n",
    "        # You may add as many methods as you see fit to assist you in building your encoder.\n",
    "        self.huffman_tree = huffman_tree\n",
    "\n",
    "    def decode_string(self, encoded_string):\n",
    "        # TODO: Implement method to assist in decoding the encoded string.\n",
    "        pass"
   ]
  },
  {
   "cell_type": "code",
   "execution_count": 3,
   "metadata": {},
   "outputs": [],
   "source": [
    "# Testing Code: Feel free to add as many lines to this code to test your functions above."
   ]
  },
  {
   "cell_type": "code",
   "execution_count": null,
   "metadata": {},
   "outputs": [],
   "source": [
    "# Grading Code: Do not edit this cell.\n",
    "decoder = Decoder(encoder.get_tree())\n",
    "\n",
    "assert decoder.decode_string(\"1110110\") == \"bad\"\n",
    "assert decoder.decode_string(\"0110110\") == \"add\"\n",
    "assert decoder.decode_string(\"100111\") == \"cab\"\n",
    "print(\"All Tests Passed!\")"
   ]
  },
  {
   "cell_type": "markdown",
   "metadata": {},
   "source": [
    "### Problem 3: Encoder/Decoder Challenges\n",
    "\n",
    "This problem will test the robustness of your encoder and decoder. It'll go through a series of tests and see how good your encoder system is at encoding strings."
   ]
  },
  {
   "cell_type": "code",
   "execution_count": null,
   "metadata": {},
   "outputs": [],
   "source": [
    "# Grading Code: Do not edit this cell.\n",
    "encoder = Encoder(\"abbaaacdeaacfgashiajkalmmnoppsqrsstttuvwxyz_\")\n",
    "\n",
    "decoder = Decoder(encoder.get_tree())\n",
    "\n",
    "assert encoder.encode_string(\"hey_gerald\") == \"1101101101001101111110000011011010011000001111011110011\"\n",
    "assert encoder.encode_string(\"its_franks_birthday\") == \"11000110101001110001111011100000111001011101010011100010111110001110000101011011011001101110111\"\n",
    "assert encoder.encode_string(\"lets_give_him_cake\") == \"1110111101001010100111000001101100011111111101001110001101101100010000111000000101111010110100\"\n",
    "assert decoder.decode_string(\"1101101101001101111110000011011010011000001111011110011\") == \"hey_gerald\"\n",
    "print(\"All Tests Passed!\")"
   ]
  },
  {
   "cell_type": "code",
   "execution_count": null,
   "metadata": {},
   "outputs": [],
   "source": [
    "# Grading Code: Do not edit this cell.\n",
    "encoder = Encoder(\"aababccdeefffff___\")\n",
    "\n",
    "decoder = Decoder(encoder.get_tree())\n",
    "\n",
    "assert encoder.encode_string(\"baaad\") == \"0111111111111100\"\n",
    "assert encoder.encode_string(\"dab_bad\") == \"1100111011000111111100\"\n",
    "assert encoder.encode_string(\"dab_fab_ed\") == \"110011101100101110110011011100\"\n",
    "assert decoder.decode_string(\"111011000111111100001100111011\") == \"ab_bad_dab\"\n",
    "print(\"All Tests Passed!\")"
   ]
  },
  {
   "cell_type": "code",
   "execution_count": null,
   "metadata": {},
   "outputs": [],
   "source": [
    "# Grading Code: Do not edit this cell.\n",
    "encoder = Encoder(\"12435213521235\")\n",
    "\n",
    "decoder = Decoder(encoder.get_tree())\n",
    "\n",
    "assert encoder.encode_string(\"111123\") == \"0000000011101\"\n",
    "assert encoder.encode_string(\"54321\") == \"011001011100\"\n",
    "assert encoder.encode_string(\"1234\") == \"0011101100\"\n",
    "assert decoder.decode_string(\"0011101100\") == \"1234\"\n",
    "print(\"All Tests Passed!\")"
   ]
  },
  {
   "cell_type": "markdown",
   "metadata": {},
   "source": [
    "Now finally, decode this special message!"
   ]
  },
  {
   "cell_type": "code",
   "execution_count": null,
   "metadata": {},
   "outputs": [],
   "source": [
    "encoder = Encoder(\"abbaaacdeaacfgashiajkalmmnoppsqrsstttuvwxyz_!\")\n",
    "decoder = Decoder(encoder.get_tree())\n",
    "special_message = \"1100111111111110101001100011000001111010111101100111101100011011110110011111110111101010101100011100111101111010000110011111011101010000010011111101010011000110000011110101111011100111111011110100111101000000110010100111011010111010111000001101000110000\""
   ]
  },
  {
   "cell_type": "markdown",
   "metadata": {},
   "source": [
    "### Problem 4: Write Up"
   ]
  },
  {
   "cell_type": "markdown",
   "metadata": {},
   "source": [
    "Your task: Answer the following questions\n",
    "1. What were some things you learned from this lab?\n",
    "2. What did you like about this lab?\n",
    "3. What would you improve?"
   ]
  },
  {
   "cell_type": "markdown",
   "metadata": {},
   "source": [
    "*Enter Your Answer Here*"
   ]
  },
  {
   "cell_type": "markdown",
   "metadata": {},
   "source": []
  }
 ],
 "metadata": {
  "kernelspec": {
   "display_name": "base",
   "language": "python",
   "name": "python3"
  },
  "language_info": {
   "codemirror_mode": {
    "name": "ipython",
    "version": 3
   },
   "file_extension": ".py",
   "mimetype": "text/x-python",
   "name": "python",
   "nbconvert_exporter": "python",
   "pygments_lexer": "ipython3",
   "version": "3.9.18"
  }
 },
 "nbformat": 4,
 "nbformat_minor": 2
}
