{
 "cells": [
  {
   "cell_type": "markdown",
   "metadata": {},
   "source": [
    "# Lab 1: Probability Review"
   ]
  },
  {
   "cell_type": "markdown",
   "metadata": {},
   "source": [
    "Welcome to Physical Reasoning with Data! In this class we'll be covering a variety topics to help you learn about how to reason with real world data. The aims and goals of this class is to teach you how to construct an experiment, gather your own data, and interpret that data. The first half of the course's material is closely related to probability theory, so this lab serves as a way for you to brush up on your Python programming as well as your skills in probability."
   ]
  },
  {
   "cell_type": "markdown",
   "metadata": {},
   "source": [
    "### Grading Breakdown:\n",
    "- Problem 1 - 12 Points\n",
    "- Problem 2 - 12 Points\n",
    "- Problem 3 - 12 Points\n",
    "- Problem 4 - 4 Points\n",
    "\n",
    "Total: 40 Points"
   ]
  },
  {
   "cell_type": "markdown",
   "metadata": {},
   "source": [
    "### Problem 1: Basic Probability"
   ]
  },
  {
   "cell_type": "markdown",
   "metadata": {},
   "source": [
    "To start off probability, we have a Racoon named Pedro that loves marbles. Inside of one of his marble bags, the following marbles exist: `3 blue, 4 green, and 5 red`.\n",
    "\n",
    "The following class is a computational representation of Pedro's Bag. You may need to use the `random` python module\n",
    "\n",
    "Your task: Implement three functions so Pedro can thoroughly enjoy his time playing with his marbles\n",
    "- draw() -> str: He needs to be able to draw a random marble according to their sample space.\n",
    "- add(type: str, count: int) -> str: He needs to add marble(s) to the bag\n",
    "- dump() -> str: He needs to be able to see all of the contents of the bag.\n",
    "- get_color_prob(type: str) -> float: He needs to get the probability for a given marble color."
   ]
  },
  {
   "cell_type": "code",
   "execution_count": null,
   "metadata": {},
   "outputs": [],
   "source": [
    "class PedrosMarbleBag():\n",
    "    def __init__(self, bag_contents):\n",
    "        # Do not modify the constructor\n",
    "        self.bag_contents: dict = bag_contents\n",
    "    \n",
    "    def draw(self):\n",
    "        # TODO: Randomly draw a marble according to their associated probability.\n",
    "        return None\n",
    "    \n",
    "    def add(self, type: str, count: int):\n",
    "        # TODO: Add marbles to the bag.\n",
    "        pass\n",
    "\n",
    "    def dump(self) -> str:\n",
    "        # TODO: Display the contents of the bag\n",
    "\n",
    "        return None\n",
    "\n",
    "    def get_color_prob(self, marble_type: str) -> float:\n",
    "        # TODO: \n",
    "        \n",
    "        return\n"
   ]
  },
  {
   "cell_type": "code",
   "execution_count": null,
   "metadata": {},
   "outputs": [],
   "source": [
    "# Testing Code: Feel free to add as many lines to this code to test your functions."
   ]
  },
  {
   "cell_type": "code",
   "execution_count": null,
   "metadata": {},
   "outputs": [],
   "source": [
    "# Grading Code: Do not edit this cell.\n",
    "bag = PedrosMarbleBag({\n",
    "    \"red\": 3,\n",
    "    \"blue\": 6,\n",
    "    \"purple\": 3\n",
    "})\n",
    "\n",
    "assert bag.get_color_prob(\"red\") == .25\n",
    "assert bag.get_color_prob(\"purple\") == .25\n",
    "assert bag.get_color_prob(\"blue\") == .5\n",
    "\n",
    "bag.add(\"purple\", 3)\n",
    "assert bag.get_color_prob(\"purple\") == .4\n",
    "assert bag.draw() in [\"red\", \"purple\", \"blue\"]\n",
    "\n",
    "assert bag.dump() != \"\" and bag.dump() != None\n",
    "\n",
    "print(bag.dump())\n",
    "print(\"All tests passed!\")"
   ]
  },
  {
   "cell_type": "markdown",
   "metadata": {},
   "source": [
    "### Problem 2: Conditional Probability"
   ]
  },
  {
   "cell_type": "markdown",
   "metadata": {},
   "source": [
    "If two random variables are independent (the outcome of one random variable doesn't affect the other random variable), then the following statement is true:\n",
    "\n",
    "$P(X \\cap Y) = P(X)P(Y)$\n",
    "\n",
    "Conditional probability is when you have two random variables, and you want to see how much one random variable affects another random variable.\n",
    "\n",
    "The Conditional probability is given as the following equation:\n",
    "\n",
    "$P(X|Y) = \\frac{P(X \\cap Y)}{P(X)}$\n",
    "\n",
    "Your task: Implement the following functions\n",
    "- calc_joint_independant_probability(p_x: float, p_y: float) -> float: The joint probability \n",
    "- calc_conditional_probability(p_x_and_y:float, p_x:float) -> float: The conditional probability of x given y."
   ]
  },
  {
   "cell_type": "code",
   "execution_count": null,
   "metadata": {},
   "outputs": [],
   "source": [
    "def calc_joint_independant_probability(p_x: float, p_y: float) -> float:\n",
    "    # TODO: Calculate the independant probability of the two independant random variables.\n",
    "    joint_probability = \n",
    "    return joint_probability"
   ]
  },
  {
   "cell_type": "code",
   "execution_count": null,
   "metadata": {},
   "outputs": [],
   "source": [
    "def calc_conditional_probability(p_x_and_y: float, p_x: float) -> float:\n",
    "    # TODO: Calculate the independant probability of the two independant random variables.\n",
    "    joint_probability = \n",
    "    return joint_probability"
   ]
  },
  {
   "cell_type": "code",
   "execution_count": null,
   "metadata": {},
   "outputs": [],
   "source": [
    "# Testing Code: Feel free to add as many lines to this code to test your functions."
   ]
  },
  {
   "cell_type": "code",
   "execution_count": null,
   "metadata": {},
   "outputs": [],
   "source": [
    "# Grading Code, do not edit this cell.\n",
    "assert calc_joint_independant_probability(.25, .4) == 0.1\n",
    "assert calc_conditional_probability(.125, .5) == .25\n",
    "print(\"All Tests Passed!\")"
   ]
  },
  {
   "cell_type": "markdown",
   "metadata": {},
   "source": [
    "Pedro returns, but this time he wants to see if the shape of his food has an affect on the colors that he draws from the bag. His food has a 68% probability of being round, and there is a 20% chance that he draws a blue marble. What is the conditional probability of his food being round given that he drew a blue marble?\n",
    "\n",
    "Your task: Figure out what is the conditional probability of his food being round given that he drew a blue marble. Use the functions you created above."
   ]
  },
  {
   "cell_type": "code",
   "execution_count": null,
   "metadata": {},
   "outputs": [],
   "source": [
    "# Implementation code:\n",
    "p_r = \n",
    "p_b = \n",
    "\n",
    "food_probability = "
   ]
  },
  {
   "cell_type": "code",
   "execution_count": null,
   "metadata": {},
   "outputs": [],
   "source": [
    "# Grading Code, do not edit this cell.\n",
    "assert food_probability == 0.2\n",
    "print(\"All Tests Passed!\")"
   ]
  },
  {
   "cell_type": "markdown",
   "metadata": {},
   "source": [
    "### Problem 3: Bayes Theorem"
   ]
  },
  {
   "cell_type": "markdown",
   "metadata": {},
   "source": [
    "Given that we know $P(X|Y)$ is there a way that we can find $P(Y|X)$? The answer is yes! This can be calculated using Bayes rule, which is given by the following equation.\n",
    "\n",
    "$P(Y|X) = \\frac{P(X|Y)P(Y)}{P(X)}$\n",
    "\n",
    "Your task: Implement the following function(s)\n",
    "- bayes_theorem(p_x:float, p_y:float, p_x_given_y:float) -> float: Calculates $P(Y|X)$"
   ]
  },
  {
   "cell_type": "code",
   "execution_count": null,
   "metadata": {},
   "outputs": [],
   "source": [
    "def bayes(p_x: float, p_y: float, p_x_given_y: float) -> float:\n",
    "    #TODO: Implement bayes theorem using the above function\n",
    "    p_y_given_x = \n",
    "    return "
   ]
  },
  {
   "cell_type": "code",
   "execution_count": null,
   "metadata": {},
   "outputs": [],
   "source": [
    "# Testing Code: Feel free to add as many lines to this code to test your functions."
   ]
  },
  {
   "cell_type": "code",
   "execution_count": null,
   "metadata": {},
   "outputs": [],
   "source": [
    "# Grading Code, do not edit this cell.\n",
    "assert bayes(.25, .5, .225) == 0.45\n",
    "print(\"All tests passed!\")"
   ]
  },
  {
   "cell_type": "markdown",
   "metadata": {},
   "source": [
    "Pedro now wants to figure out the probability of drawing a green marble given that he at bacon this morning. On a given week, he eats bacon three days of the seven. He has a 50% chance of drawing a green marble. By conducting a previous experiment, he was able to deduce that if he eats bacon, his chance of drawing a green marble is 30% greater.\n",
    "\n",
    "Your task: Find the probability of drawing a green marble given that he ate bacon this morning. Use the bayes function you created above."
   ]
  },
  {
   "cell_type": "code",
   "execution_count": null,
   "metadata": {},
   "outputs": [],
   "source": [
    "p_b_g = "
   ]
  },
  {
   "cell_type": "code",
   "execution_count": null,
   "metadata": {},
   "outputs": [],
   "source": [
    "# Grading Code, do not edit this cell.\n",
    "assert round(p_b_g, 2) == 0.69\n",
    "print(\"All tests passed!\")"
   ]
  },
  {
   "cell_type": "markdown",
   "metadata": {},
   "source": [
    "### Problem 4: Write Up"
   ]
  },
  {
   "cell_type": "markdown",
   "metadata": {},
   "source": [
    "Your task: Answer the following questions\n",
    "1. What were some things you learned from this lab?\n",
    "2. What did you like about this lab?\n",
    "3. What would you improve?"
   ]
  },
  {
   "cell_type": "markdown",
   "metadata": {},
   "source": [
    "*Enter Your Answer Here*"
   ]
  }
 ],
 "metadata": {
  "language_info": {
   "name": "python"
  }
 },
 "nbformat": 4,
 "nbformat_minor": 2
}
