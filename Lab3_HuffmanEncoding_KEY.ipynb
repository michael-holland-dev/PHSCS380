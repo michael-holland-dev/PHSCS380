{
  "cells": [
    {
      "cell_type": "markdown",
      "metadata": {
        "id": "YMYQ5M8f0awm"
      },
      "source": [
        "# Lab 3: Encoders and Decoders"
      ]
    },
    {
      "cell_type": "markdown",
      "metadata": {
        "id": "B9p77bFY0awo"
      },
      "source": [
        "Over the past few weeks, we've been discussing encoders and decoders. This is your chance to computationally implement both an encoder and a decoder. This will be a little bit more computationally challenging, but we know you can do it! We recommend reading up on recursion before doing this lab, as the huffman tree is implemented using recursion. We'll try to make it as easy as possible, while also providing a good learning experience for you."
      ]
    },
    {
      "cell_type": "markdown",
      "metadata": {
        "id": "oWOg5WLm0awo"
      },
      "source": [
        "### Grading Breakdown:\n",
        "- Problem 1 - 15 Points\n",
        "- Problem 2 - 15 Points\n",
        "- Problem 3 - 6 Points\n",
        "- Problem 4 - 4 Points\n",
        "\n",
        "Total: 40 Points"
      ]
    },
    {
      "cell_type": "markdown",
      "metadata": {
        "id": "Ex6dMjZM0awo"
      },
      "source": [
        "### Problem 1: Building Your Encoder"
      ]
    },
    {
      "cell_type": "markdown",
      "metadata": {
        "id": "0dUblngo0awp"
      },
      "source": [
        "Pedro the racoon is trying to plan Frank the Lizard's birthday party with his friend Gerald the frog. Because of the secret nature of this task, Frank cannot know the contents of the messages. Frank is a highly skilled hacker who unfortunately hasn't taken PHSCS 383, so he doesn't know what an encoding is. You need to build an huffman encoder to assist Pedro in encoding his messages before he sends them to Gerald.\n",
        "\n",
        "Your task: Build a huffman encoder that encodes based on a seed string. Fill out the following functions:\n",
        "- __train_encoder() -> HuffmanTree: Trains the huffman encoder, and breaks down the probabilities.\n",
        "- encode_string(string) -> str: Takes a string and returns the encoded string.\n",
        "\n",
        "\n",
        "*Important Notes to make your encoder and decoder work with the test cases:*\n",
        "- Order your nodes first by probability, then by alphabetical order.\n",
        "- Have the left nodes be associated with 0, and the right nodes be associated with 1."
      ]
    },
    {
      "cell_type": "code",
      "execution_count": 3,
      "metadata": {
        "id": "iAxzOH-o24I3"
      },
      "outputs": [],
      "source": [
        "class TreeNode():\n",
        "    def __init__(self, identifying_string, probability, left_node, right_node):\n",
        "        if left_node != None and right_node == None or left_node == None and right_node != None:\n",
        "            raise(\"Node should either have two children, or none at all.\")\n",
        "\n",
        "        self.identifier = identifying_string\n",
        "        self.probability = probability\n",
        "        self.left_node = left_node\n",
        "        self.right_node = right_node\n",
        "\n",
        "    def __str__(self):\n",
        "        return f\"<TreeNode(identifier={self.identifier}, probability={self.probability})>\"\n",
        "\n",
        "    def __repr__(self):\n",
        "        return f\"<TreeNode(identifier={self.identifier}, probability={self.probability})>\"\n"
      ]
    },
    {
      "cell_type": "code",
      "execution_count": 4,
      "metadata": {
        "id": "79cJNSKo8dPx"
      },
      "outputs": [],
      "source": [
        "class HuffmanContainer():\n",
        "    def __init__(self, root_node: TreeNode, encoding_map: dict):\n",
        "        self.root = root_node\n",
        "        self.encoding_map = encoding_map"
      ]
    },
    {
      "cell_type": "code",
      "execution_count": 5,
      "metadata": {
        "id": "7uRtB1zA0awq"
      },
      "outputs": [],
      "source": [
        "from copy import deepcopy\n",
        "\n",
        "class Encoder():\n",
        "    def __init__(self, seed_corpus: str):\n",
        "        self.seed_corpus = seed_corpus\n",
        "        self.huffman: HuffmanContainer = self.__train_encoder(seed_corpus)\n",
        "\n",
        "    def __train_encoder(self, seed_corpus) -> HuffmanContainer:\n",
        "        symbols = [*seed_corpus]\n",
        "        unique_symbols = set(symbols)\n",
        "        frequency_dict = {symbol:0 for symbol in unique_symbols}\n",
        "\n",
        "        for symbol in symbols:\n",
        "            frequency_dict[symbol] += 1\n",
        "\n",
        "        self.probability_dictionary = deepcopy(frequency_dict)\n",
        "        for symbol in unique_symbols:\n",
        "            self.probability_dictionary[symbol] = self.probability_dictionary[symbol] / len(symbols)\n",
        "\n",
        "        root_node: TreeNode = self.__build_tree(self.probability_dictionary)\n",
        "        self.__symbol_encoding = {key: \"\" for key in frequency_dict.keys()}\n",
        "        self.__build_encoding_dict(root_node)\n",
        "\n",
        "        return HuffmanContainer(root_node, self.__symbol_encoding)\n",
        "\n",
        "    def __build_tree(self, symbol_probabilities: dict) -> TreeNode:\n",
        "        tree_nodes = [TreeNode(key, value, None, None) for key, value in symbol_probabilities.items()]\n",
        "        tree_nodes.sort(key=lambda x: x.probability, reverse=True)\n",
        "\n",
        "        while True:\n",
        "            node_one = tree_nodes.pop()\n",
        "            node_two = tree_nodes.pop()\n",
        "\n",
        "            combined_node = TreeNode(\n",
        "                node_one.identifier + node_two.identifier,\n",
        "                node_one.probability + node_two.probability,\n",
        "                node_one,\n",
        "                node_two\n",
        "            )\n",
        "\n",
        "            tree_nodes.append(combined_node)\n",
        "\n",
        "            tree_nodes.sort(key=lambda x: x.probability, reverse=True)\n",
        "\n",
        "            if len(tree_nodes) == 1:\n",
        "                break\n",
        "        root_node = tree_nodes[0]\n",
        "        return root_node\n",
        "\n",
        "    def __build_encoding_dict(self, root_node: TreeNode):\n",
        "\n",
        "        if(root_node.left_node == None and root_node.right_node == None):\n",
        "            raise Exception(\"Empty Tree\")\n",
        "        self.__build_encoding_helper(\"0\", root_node.left_node)\n",
        "        self.__build_encoding_helper(\"1\", root_node.right_node)\n",
        "\n",
        "    def __build_encoding_helper(self, encoding_key: str, node: TreeNode):\n",
        "        if(node.left_node != None and node.right_node != None):\n",
        "            self.__build_encoding_helper(encoding_key + \"0\", node.left_node)\n",
        "            self.__build_encoding_helper(encoding_key + \"1\", node.right_node)\n",
        "        else:\n",
        "            self.__symbol_encoding[node.identifier] = encoding_key\n",
        "\n",
        "\n",
        "    def encode_string(self, string):\n",
        "        characters_to_encode = [*string]\n",
        "\n",
        "        encoding_string = []\n",
        "        for character in characters_to_encode:\n",
        "            encoding_string.append(self.huffman.encoding_map[character])\n",
        "\n",
        "        return \"\".join(encoding_string)\n",
        "\n",
        "    def get_tree(self):\n",
        "        return self.huffman\n"
      ]
    },
    {
      "cell_type": "code",
      "execution_count": null,
      "metadata": {
        "id": "HQCEWt3j0awq"
      },
      "outputs": [],
      "source": [
        "# Testing Code: Feel free to add as many lines to this code to test your functions above.\n"
      ]
    },
    {
      "cell_type": "code",
      "execution_count": 6,
      "metadata": {
        "colab": {
          "base_uri": "https://localhost:8080/"
        },
        "id": "DF7Lqea40awq",
        "outputId": "61969131-3469-4b6e-ae63-54e7fcd58e3d"
      },
      "outputs": [
        {
          "name": "stdout",
          "output_type": "stream",
          "text": [
            "All Tests Passed!\n"
          ]
        }
      ],
      "source": [
        "# Grading Code: Do not edit this cell.\n",
        "corpus_string = \"abbcaaaaccddabc\"\n",
        "encoder = Encoder(corpus_string)\n",
        "\n",
        "assert encoder.encode_string(\"bad\") == \"1110110\"\n",
        "assert encoder.encode_string(\"add\") == \"0110110\"\n",
        "assert encoder.encode_string(\"cab\") == \"100111\"\n",
        "print(\"All Tests Passed!\")\n"
      ]
    },
    {
      "cell_type": "markdown",
      "metadata": {
        "id": "nJkwbuN80awq"
      },
      "source": [
        "Questions to Answer\n",
        "- What did you learn from building the encoder?\n",
        "- Did you use recursion? Why or Why not?"
      ]
    },
    {
      "cell_type": "markdown",
      "metadata": {
        "id": "0cNowmAK0awq"
      },
      "source": [
        "*Answer the above question*"
      ]
    },
    {
      "cell_type": "markdown",
      "metadata": {
        "id": "xy7NP3z20awr"
      },
      "source": [
        "### Problem 2: Building Your Decoder\n",
        "Pedro has successfully encoded his message that he's sending to Gerald. Gerald however has no way to understand what message is being sent. Gerald was sent a packet of decoding information as well as the message. He needs your help to build a decoder to be able to understand the message that Pedro is sending.\n",
        "\n",
        "Your task: Build a decoder that receives a huffman tree (packet) as an input to it's constructor, and is able to decode the message sent by Gerald.\n",
        "- decode(encoded_string: str) -> str: Decodes an encoded string."
      ]
    },
    {
      "cell_type": "code",
      "execution_count": 7,
      "metadata": {
        "id": "ygIuvxTq0awr"
      },
      "outputs": [],
      "source": [
        "class Decoder():\n",
        "    def __init__(self, huffman_tree: HuffmanContainer):\n",
        "        self.huffman_tree: HuffmanContainer = huffman_tree\n",
        "\n",
        "    def decode_string(self, encoded_string):\n",
        "        self.current_index = 0\n",
        "        self.decoded_string = []\n",
        "        self.encoded_string = encoded_string\n",
        "\n",
        "        while True:\n",
        "            decoded_symbol = self.decode_string_helper(self.huffman_tree.root)\n",
        "            self.decoded_string.append(decoded_symbol)\n",
        "            if self.current_index == len(encoded_string):\n",
        "                break\n",
        "\n",
        "        return \"\".join(self.decoded_string)\n",
        "\n",
        "    def decode_string_helper(self, current_node: TreeNode):\n",
        "        if current_node.left_node == None and current_node.right_node == None:\n",
        "            return current_node.identifier\n",
        "\n",
        "        node_to_traverse = None\n",
        "        if self.encoded_string[self.current_index] == \"0\":\n",
        "            node_to_traverse = current_node.left_node\n",
        "\n",
        "        if self.encoded_string[self.current_index] == \"1\":\n",
        "            node_to_traverse = current_node.right_node\n",
        "\n",
        "        self.current_index += 1\n",
        "        return self.decode_string_helper(node_to_traverse)\n"
      ]
    },
    {
      "cell_type": "code",
      "execution_count": 8,
      "metadata": {
        "colab": {
          "base_uri": "https://localhost:8080/",
          "height": 35
        },
        "id": "z2QODhEO0awr",
        "outputId": "00716037-e391-439b-d8b5-339ab8a689f3"
      },
      "outputs": [
        {
          "data": {
            "text/plain": [
              "'bad'"
            ]
          },
          "execution_count": 8,
          "metadata": {},
          "output_type": "execute_result"
        }
      ],
      "source": [
        "# Testing Code: Feel free to add as many lines to this code to test your functions above.\n",
        "decoder = Decoder(encoder.get_tree())\n",
        "\n",
        "decoder.decode_string(\"1110110\")"
      ]
    },
    {
      "cell_type": "code",
      "execution_count": 9,
      "metadata": {
        "colab": {
          "base_uri": "https://localhost:8080/"
        },
        "id": "Z8-NguFd0awr",
        "outputId": "908f09d5-5851-43a6-fdf5-53934d03f35a"
      },
      "outputs": [
        {
          "name": "stdout",
          "output_type": "stream",
          "text": [
            "All Tests Passed!\n"
          ]
        }
      ],
      "source": [
        "# Grading Code: Do not edit this cell.\n",
        "decoder = Decoder(encoder.get_tree())\n",
        "\n",
        "assert decoder.decode_string(\"1110110\") == \"bad\"\n",
        "assert decoder.decode_string(\"0110110\") == \"add\"\n",
        "assert decoder.decode_string(\"100111\") == \"cab\"\n",
        "print(\"All Tests Passed!\")"
      ]
    },
    {
      "cell_type": "markdown",
      "metadata": {
        "id": "ZyL7C3gW0awr"
      },
      "source": [
        "### Problem 3: Encoder/Decoder Challenges\n",
        "\n",
        "This problem will test the robustness of your encoder and decoder. It'll go through a series of tests and see how good your encoder system is at encoding strings."
      ]
    },
    {
      "cell_type": "code",
      "execution_count": 15,
      "metadata": {
        "colab": {
          "base_uri": "https://localhost:8080/"
        },
        "id": "YkOZGDJA0awr",
        "outputId": "9a7a94ae-3f1c-4fa3-e500-b4369566823a"
      },
      "outputs": [
        {
          "name": "stdout",
          "output_type": "stream",
          "text": [
            "All Tests Passed!\n"
          ]
        }
      ],
      "source": [
        "# Grading Code: Do not edit this cell.\n",
        "encoder = Encoder(\"abbaaacdeaacfgashiajkalmmnoppsqrsstttuvwxyz_\")\n",
        "\n",
        "decoder = Decoder(encoder.get_tree())\n",
        "assert encoder.encode_string(\"hey_gerald\") == \"110000110001001111101101110101100011101110100100111101\"\n",
        "assert encoder.encode_string(\"its_franks_birthday\") == \"00110101010011011011001111011101110101111000100110110101100011011011110101100001111010100111\"\n",
        "assert encoder.encode_string(\"lets_give_him_cake\") == \"00100110001101010011011011101000110111001110001110110110000001100001110110000001111000110001\"\n",
        "assert decoder.decode_string(\"110000110001001111101101110101100011101110100100111101\") == \"hey_gerald\"\n",
        "print(\"All Tests Passed!\")"
      ]
    },
    {
      "cell_type": "code",
      "execution_count": 23,
      "metadata": {
        "colab": {
          "base_uri": "https://localhost:8080/"
        },
        "id": "QUgkOhnA0aws",
        "outputId": "0a1cb49a-5a90-4893-b1f0-3ed761d50239"
      },
      "outputs": [
        {
          "name": "stdout",
          "output_type": "stream",
          "text": [
            "All Tests Passed!\n"
          ]
        }
      ],
      "source": [
        "# Grading Code: Do not edit this cell.\n",
        "encoder = Encoder(\"aababccdeefffff___\")\n",
        "\n",
        "decoder = Decoder(encoder.get_tree())\n",
        "\n",
        "assert encoder.encode_string(\"baaad\") == \"0100000001100\"\n",
        "assert encoder.encode_string(\"dab_bad\") == \"110000010111010001100\"\n",
        "assert encoder.encode_string(\"dab_fab_ed\") == \"11000001011110000101110111100\"\n",
        "assert decoder.decode_string(\"00010111010001100111110000010\") == \"ab_bad_dab\"\n",
        "print(\"All Tests Passed!\")"
      ]
    },
    {
      "cell_type": "code",
      "execution_count": 181,
      "metadata": {
        "colab": {
          "base_uri": "https://localhost:8080/"
        },
        "id": "cHpjxj4n0aws",
        "outputId": "8c979e4b-05c1-4dd1-a04b-f110df08b5f3"
      },
      "outputs": [
        {
          "name": "stdout",
          "output_type": "stream",
          "text": [
            "All Tests Passed!\n"
          ]
        }
      ],
      "source": [
        "# Grading Code: Do not edit this cell.\n",
        "encoder = Encoder(\"12435213521235\")\n",
        "\n",
        "decoder = Decoder(encoder.get_tree())\n",
        "\n",
        "assert encoder.encode_string(\"111123\") == \"0000000011101\"\n",
        "assert encoder.encode_string(\"54321\") == \"011001011100\"\n",
        "assert encoder.encode_string(\"1234\") == \"0011101100\"\n",
        "assert decoder.decode_string(\"0011101100\") == \"1234\"\n",
        "print(\"All Tests Passed!\")"
      ]
    },
    {
      "cell_type": "markdown",
      "metadata": {
        "id": "sl8cs_PGMFSh"
      },
      "source": [
        "Now finally, decode this special message!"
      ]
    },
    {
      "cell_type": "code",
      "execution_count": 25,
      "metadata": {
        "colab": {
          "base_uri": "https://localhost:8080/",
          "height": 53
        },
        "id": "ZFiRkTvDMDm9",
        "outputId": "448e7a70-5d52-40bf-ba0b-b148bc30b84d"
      },
      "outputs": [
        {
          "name": "stdout",
          "output_type": "stream",
          "text": [
            "hzwrlywxomlxoxwt_hswcossaiowrlywxhxwawifoatwvlpe\n"
          ]
        }
      ],
      "source": [
        "encoder = Encoder(\"abbaaacdeaacfgashiajkalmmnoppsqrsstttuvwxyz_!\")\n",
        "decoder = Decoder(encoder.get_tree())\n",
        "special_message = \"1100111111111110101001100011000001111010111101100111101100011011110110011111110111101010101100011100111101111010000110011111011101010000010011111101010011000110000011110101111011100111111011110100111101000000110010100111011010111010111000001101000110000\""
      ]
    },
    {
      "cell_type": "markdown",
      "metadata": {
        "id": "tojsjs7S0aws"
      },
      "source": [
        "### Problem 4: Write Up"
      ]
    },
    {
      "cell_type": "markdown",
      "metadata": {
        "id": "v9-HN2qb0aws"
      },
      "source": [
        "Your task: Answer the following questions\n",
        "1. What were some things you learned from this lab?\n",
        "2. What did you like about this lab?\n",
        "3. What would you improve?"
      ]
    },
    {
      "cell_type": "markdown",
      "metadata": {
        "id": "34dRiana0aws"
      },
      "source": [
        "If the student answers all the questions with a good amount of effort, give them full credit!"
      ]
    }
  ],
  "metadata": {
    "colab": {
      "collapsed_sections": [
        "Ex6dMjZM0awo"
      ],
      "provenance": []
    },
    "kernelspec": {
      "display_name": "base",
      "language": "python",
      "name": "python3"
    },
    "language_info": {
      "codemirror_mode": {
        "name": "ipython",
        "version": 3
      },
      "file_extension": ".py",
      "mimetype": "text/x-python",
      "name": "python",
      "nbconvert_exporter": "python",
      "pygments_lexer": "ipython3",
      "version": "3.9.18"
    }
  },
  "nbformat": 4,
  "nbformat_minor": 0
}
