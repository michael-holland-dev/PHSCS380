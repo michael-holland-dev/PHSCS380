{
 "cells": [
  {
   "cell_type": "markdown",
   "metadata": {},
   "source": [
    "# Lab 7: Measurement Uncertainty"
   ]
  },
  {
   "cell_type": "markdown",
   "metadata": {},
   "source": [
    "This is the third of the experiment labs. In this lab you'll be doing analysis on how to calculate the gravitational constant G through a variety of methods. You'll work in a group of 2-3 students, and turn in this notebook that contains your analysis on the errors that you \n",
    "\n",
    "The experiment labs are not as structured as the previous four labs, as they are highly dependant on your data! Because of that, we may not know how to debug your code completely, so please be patient with us!"
   ]
  },
  {
   "cell_type": "markdown",
   "metadata": {},
   "source": [
    "### Grading Breakdown:\n",
    "- Problem 1 - 12 Points\n",
    "- Problem 2 - 12 Points\n",
    "- Problem 3 - 12 Points\n",
    "- Problem 4 - 4 Points\n",
    "\n",
    "Total: 40 Points"
   ]
  },
  {
   "cell_type": "markdown",
   "metadata": {},
   "source": [
    "### Problem 1: Error Breakdown"
   ]
  },
  {
   "cell_type": "markdown",
   "metadata": {},
   "source": [
    "This problem is all about breaking down the potential sources of error from your measurements"
   ]
  },
  {
   "cell_type": "markdown",
   "metadata": {},
   "source": [
    "### Problem 2: Error Equations"
   ]
  },
  {
   "cell_type": "markdown",
   "metadata": {},
   "source": [
    "This section is about the error of your calculations"
   ]
  },
  {
   "cell_type": "markdown",
   "metadata": {},
   "source": [
    "### Problem 3: Propagation of Measurement Uncertainty"
   ]
  },
  {
   "cell_type": "markdown",
   "metadata": {},
   "source": [
    "How does measurement propogate through the equations you use?"
   ]
  },
  {
   "cell_type": "markdown",
   "metadata": {},
   "source": [
    "### Problem 4: Write Up"
   ]
  },
  {
   "cell_type": "markdown",
   "metadata": {},
   "source": [
    "Your task: Answer the following questions\n",
    "1. What were some things you learned from this lab?\n",
    "2. What did you like about this lab?\n",
    "3. What would you improve?"
   ]
  },
  {
   "cell_type": "markdown",
   "metadata": {},
   "source": [
    "*Enter Your Answer Here*"
   ]
  }
 ],
 "metadata": {
  "language_info": {
   "name": "python"
  }
 },
 "nbformat": 4,
 "nbformat_minor": 2
}
