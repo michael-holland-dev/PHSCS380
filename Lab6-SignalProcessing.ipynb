{
 "cells": [
  {
   "cell_type": "markdown",
   "metadata": {},
   "source": [
    "# Lab 6: Signal Processing"
   ]
  },
  {
   "cell_type": "markdown",
   "metadata": {},
   "source": [
    "This is the second of the experiment labs. In this lab you'll be able to conduct some signal processing. This includes cross correlation, convolution, and auto correlation. We try to provide much of the code for you, to make things as seamless as possible, but depending on your data, you might need to wrangle with the code a little bit.\n",
    "\n",
    "These labs are not as structured as the previous four labs, as they are highly dependant on your data! Because of that, we may not know how to debug your code completely, so please be patient with us!"
   ]
  },
  {
   "cell_type": "markdown",
   "metadata": {},
   "source": [
    "### Grading Breakdown:\n",
    "- Problem 1 - 12 Points\n",
    "- Problem 2 - 12 Points\n",
    "- Problem 3 - 12 Points\n",
    "- Problem 4 - 4 Points\n",
    "\n",
    "Total: 40 Points"
   ]
  },
  {
   "cell_type": "markdown",
   "metadata": {},
   "source": [
    "### Problem 1: Convolution"
   ]
  },
  {
   "cell_type": "markdown",
   "metadata": {},
   "source": [
    "### Problem 2: Cross Correlation"
   ]
  },
  {
   "cell_type": "markdown",
   "metadata": {},
   "source": [
    "### Problem 3: Auto Correlation"
   ]
  },
  {
   "cell_type": "markdown",
   "metadata": {},
   "source": [
    "### Problem 4: Write Up"
   ]
  },
  {
   "cell_type": "markdown",
   "metadata": {},
   "source": [
    "Your task: Answer the following questions\n",
    "1. What were some things you learned from this lab?\n",
    "2. What did you like about this lab?\n",
    "3. What would you improve?"
   ]
  },
  {
   "cell_type": "markdown",
   "metadata": {},
   "source": [
    "*Enter Your Answer Here*"
   ]
  }
 ],
 "metadata": {
  "language_info": {
   "name": "python"
  }
 },
 "nbformat": 4,
 "nbformat_minor": 2
}
